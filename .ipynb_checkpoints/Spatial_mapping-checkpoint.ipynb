{
 "cells": [
  {
   "cell_type": "markdown",
   "metadata": {},
   "source": [
    "## Spatial mapping\n",
    "\n",
    "### UCL\n",
    "#### Feng Yin\n",
    "\n",
    "In this notebook we want to build a connnection between the coarse resolution and high resolution, which is based on our previous study, in which we built model based on the point spread function (PSF) to connnect those different spatial resolution data."
   ]
  },
  {
   "cell_type": "code",
   "execution_count": 49,
   "metadata": {
    "collapsed": false
   },
   "outputs": [],
   "source": [
    "import numpy as np\n",
    "import gdal\n",
    "import pylab as plt\n",
    "from osgeo import osr\n",
    "import itertools\n",
    "%matplotlib inline"
   ]
  },
  {
   "cell_type": "markdown",
   "metadata": {},
   "source": [
    "#### Sentinel 2 UTM projection"
   ]
  },
  {
   "cell_type": "code",
   "execution_count": 2,
   "metadata": {
    "collapsed": false
   },
   "outputs": [
    {
     "name": "stdout",
     "output_type": "stream",
     "text": [
      "\u001b[0m\u001b[01;34mauxiliary\u001b[0m/  B04.jp2  B08.jp2  B12.jp2       preview.jp2       tileInfo.json\r\n",
      "B01.jp2     B05.jp2  B09.jp2  B8A.jp2       preview.jpg\r\n",
      "B02.jp2     B06.jp2  B10.jp2  cloud.tif     productInfo.json\r\n",
      "B03.jp2     B07.jp2  B11.jp2  metadata.xml  \u001b[01;34mqi\u001b[0m/\r\n"
     ]
    }
   ],
   "source": [
    "ls /home/ucfafyi/DATA/S2_MODIS/s_data/50/S/KG/2016/4/13/0/ # Get some sentinel 2 data as the high resolution data"
   ]
  },
  {
   "cell_type": "code",
   "execution_count": 3,
   "metadata": {
    "collapsed": false
   },
   "outputs": [],
   "source": [
    "g = gdal.Open('/home/ucfafyi/DATA/S2_MODIS/s_data/50/S/KG/2016/4/13/0/B04.jp2')"
   ]
  },
  {
   "cell_type": "markdown",
   "metadata": {},
   "source": [
    "To check the geo information of S2 data"
   ]
  },
  {
   "cell_type": "code",
   "execution_count": 4,
   "metadata": {
    "collapsed": false,
    "scrolled": true
   },
   "outputs": [
    {
     "name": "stdout",
     "output_type": "stream",
     "text": [
      "PROJCS[\"WGS 84 / UTM zone 50N\",\n",
      "    GEOGCS[\"WGS 84\",\n",
      "        DATUM[\"WGS_1984\",\n",
      "            SPHEROID[\"WGS 84\",6378137,298.257223563,\n",
      "                AUTHORITY[\"EPSG\",\"7030\"]],\n",
      "            AUTHORITY[\"EPSG\",\"6326\"]],\n",
      "        PRIMEM[\"Greenwich\",0,\n",
      "            AUTHORITY[\"EPSG\",\"8901\"]],\n",
      "        UNIT[\"degree\",0.0174532925199433,\n",
      "            AUTHORITY[\"EPSG\",\"9122\"]],\n",
      "        AXIS[\"Latitude\",NORTH],\n",
      "        AXIS[\"Longitude\",EAST],\n",
      "        AUTHORITY[\"EPSG\",\"4326\"]],\n",
      "    PROJECTION[\"Transverse_Mercator\"],\n",
      "    PARAMETER[\"latitude_of_origin\",0],\n",
      "    PARAMETER[\"central_meridian\",117],\n",
      "    PARAMETER[\"scale_factor\",0.9996],\n",
      "    PARAMETER[\"false_easting\",500000],\n",
      "    PARAMETER[\"false_northing\",0],\n",
      "    UNIT[\"metre\",1,\n",
      "        AUTHORITY[\"EPSG\",\"9001\"]],\n",
      "    AXIS[\"Easting\",EAST],\n",
      "    AXIS[\"Northing\",NORTH],\n",
      "    AUTHORITY[\"EPSG\",\"32650\"]] \n",
      "+proj=utm +zone=50 +datum=WGS84 +units=m +no_defs \n"
     ]
    }
   ],
   "source": [
    "raster_wkt = g.GetProjection()\n",
    "spatial_ref = osr.SpatialReference()\n",
    "spatial_ref.ImportFromWkt(raster_wkt)\n",
    "print spatial_ref.ExportToPrettyWkt(), '\\n', spatial_ref.ExportToProj4() "
   ]
  },
  {
   "cell_type": "code",
   "execution_count": 5,
   "metadata": {
    "collapsed": false
   },
   "outputs": [],
   "source": [
    "rester_wkt = g.GetProjection()\n",
    "UTM = osr.SpatialReference()\n",
    "UTM.ImportFromWkt(raster_wkt) # since Sentinel 2 contain the UTM projection information\n",
    "wgs84 = osr.SpatialReference( ) # Define a SpatialReference object\n",
    "wgs84.ImportFromEPSG( 4326 ) # And set it to WGS84 using the EPSG code\n",
    "tx = osr.CoordinateTransformation(UTM, wgs84)\n",
    "\n",
    "geo_t = g.GetGeoTransform ()\n",
    "x_size = g.RasterXSize # Raster xsize\n",
    "y_size = g.RasterYSize # Raster ysize\n",
    "\n",
    "# Work out the boundaries of the new dataset in the target projection\n",
    "(ulx, uly, ulz ) = tx.TransformPoint( geo_t[0], geo_t[3])\n",
    "\n",
    "(lrx, lry, lrz ) = tx.TransformPoint( geo_t[0] + geo_t[1]*x_size, \\\n",
    "                                      geo_t[3] + geo_t[5]*y_size )\n",
    "\n",
    "(llx, lly, llz ) = tx.TransformPoint( geo_t[0] , \\\n",
    "                                      geo_t[3] + geo_t[5]*y_size )\n",
    "\n",
    "(urx, ury, urz ) = tx.TransformPoint( geo_t[0] + geo_t[1]*x_size, \\\n",
    "                                      geo_t[3]  )\n"
   ]
  },
  {
   "cell_type": "code",
   "execution_count": 6,
   "metadata": {
    "collapsed": false
   },
   "outputs": [
    {
     "data": {
      "text/plain": [
       "(113.58802752133003,\n",
       " 37.8980997872802,\n",
       " 114.8639749541644,\n",
       " 36.93866731107288,\n",
       " 113.63258699687118,\n",
       " 36.91011916105018,\n",
       " 114.83567015867709,\n",
       " 37.927680432881054)"
      ]
     },
     "execution_count": 6,
     "metadata": {},
     "output_type": "execute_result"
    }
   ],
   "source": [
    "ulx, uly,lrx, lry,llx, lly,urx, ury,"
   ]
  },
  {
   "cell_type": "markdown",
   "metadata": {},
   "source": [
    "#### MODIS Sinusoidal projection"
   ]
  },
  {
   "cell_type": "markdown",
   "metadata": {},
   "source": [
    "And we check the MODIS geo information as well"
   ]
  },
  {
   "cell_type": "code",
   "execution_count": 7,
   "metadata": {
    "collapsed": false
   },
   "outputs": [
    {
     "name": "stdout",
     "output_type": "stream",
     "text": [
      "/home/ucfafyi/DATA/S2_MODIS/m_data/MCD43A1.A2016002.h18v03.006.2016174083634.hdf\r\n"
     ]
    }
   ],
   "source": [
    "ls /home/ucfafyi/DATA/S2_MODIS/m_data/MCD43A1.A2016002.h18v03.006.2016174083634.hdf"
   ]
  },
  {
   "cell_type": "code",
   "execution_count": 8,
   "metadata": {
    "collapsed": false,
    "scrolled": true
   },
   "outputs": [
    {
     "name": "stdout",
     "output_type": "stream",
     "text": [
      "PROJCS[\"unnamed\",\n",
      "    GEOGCS[\"Unknown datum based upon the custom spheroid\",\n",
      "        DATUM[\"Not specified (based on custom spheroid)\",\n",
      "            SPHEROID[\"Custom spheroid\",6371007.181,0]],\n",
      "        PRIMEM[\"Greenwich\",0],\n",
      "        UNIT[\"degree\",0.0174532925199433]],\n",
      "    PROJECTION[\"Sinusoidal\"],\n",
      "    PARAMETER[\"longitude_of_center\",0],\n",
      "    PARAMETER[\"false_easting\",0],\n",
      "    PARAMETER[\"false_northing\",0],\n",
      "    UNIT[\"Meter\",1]] \n",
      "+proj=sinu +lon_0=0 +x_0=0 +y_0=0 +a=6371007.181 +b=6371007.181 +units=m +no_defs  \n",
      "(0.0, 463.3127165279167, 0.0, 6671703.118, 0.0, -463.3127165279165)\n"
     ]
    }
   ],
   "source": [
    "g = gdal.Open('HDF4_EOS:EOS_GRID:\"/home/ucfafyi/DATA/S2_MODIS/m_data/MCD43A1.A2016002.h18v03.006.2016174083634.hdf\":MOD_Grid_BRDF:BRDF_Albedo_Parameters_Band1')\n",
    "raster_wkt = g.GetProjection()\n",
    "spatial_ref = osr.SpatialReference()\n",
    "spatial_ref.ImportFromWkt(raster_wkt)\n",
    "print spatial_ref.ExportToPrettyWkt(), '\\n', spatial_ref.ExportToProj4() ,'\\n', g.GetGeoTransform()"
   ]
  },
  {
   "cell_type": "markdown",
   "metadata": {},
   "source": [
    "Since we want to get the pixels position, to do that we need to know the pxiels' width and hight. So we need to get the definition of modis Sinusoidal projection. \n",
    "\n",
    "From WIKI https://en.wikipedia.org/wiki/Sinusoidal_projection:\n",
    "\n",
    "$$x = (\\lambda -\\lambda_0)* \\cos{\\varphi}$$\n",
    "$$y = \\varphi$$\n",
    "\n",
    "$\\varphi$ is the latitude, $\\lambda$ is the longitude, and $\\lambda_0$ is the central meridian. We now can get the x, y values in Sinusoidal projection. According to the Porj4 of Sinusoidal, +a=6371007.181 +b=6371007.181, means we need to times the scale factor to get the final x, y."
   ]
  },
  {
   "cell_type": "code",
   "execution_count": 9,
   "metadata": {
    "collapsed": false
   },
   "outputs": [
    {
     "data": {
      "text/plain": [
       "(10007554.677898709,\n",
       " -20015109.355797417,\n",
       " -10007554.677898709,\n",
       " 20015109.355797417)"
      ]
     },
     "execution_count": 9,
     "metadata": {},
     "output_type": "execute_result"
    }
   ],
   "source": [
    "# here we can find the origins of MODIS Sinusoidal projection \n",
    "# by giving the starts and ends of latitude and longtitude\n",
    "lat_s,lon_s = -90, -180\n",
    "lat_e,lon_e = 90, 180\n",
    "rho = 6371007.181\n",
    "lambdaa_s, phi_s = lat_s*np.pi/180., lon_s*np.pi/180.\n",
    "lambdaa_e, phi_e = lat_e*np.pi/180., lon_e*np.pi/180.\n",
    "\n",
    "x_s, y_s = rho *lambdaa_s* np.cos(phi_s), rho * phi_s\n",
    "x_e, y_e = rho *lambdaa_e* np.cos(phi_e), rho * phi_e\n",
    "x_s, y_s, x_e, y_e, "
   ]
  },
  {
   "cell_type": "code",
   "execution_count": 10,
   "metadata": {
    "collapsed": false
   },
   "outputs": [
    {
     "data": {
      "text/plain": [
       "(-463.31271656938469, 463.3127165693847)"
      ]
     },
     "execution_count": 10,
     "metadata": {},
     "output_type": "execute_result"
    }
   ],
   "source": [
    "(x_e-x_s)/(2400.*18), (y_e-y_s)/(2400.*36)# and pixel widths in x and y direction"
   ]
  },
  {
   "cell_type": "markdown",
   "metadata": {},
   "source": [
    "But the values are slightly different from what we get in the previous step where it shows for h18v07, the pixel width is 463.3127165279167 and -463.3127165274999. And the origins of x,y are also slightly different from the vlaues provided by NASA, which are -20015109.354,10007554.677, so another way to check it is open some files to get those values and see check if the pixel width changed a lot from tile to tile."
   ]
  },
  {
   "cell_type": "code",
   "execution_count": 11,
   "metadata": {
    "collapsed": false
   },
   "outputs": [
    {
     "data": {
      "text/plain": [
       "[[5, 463.31271652791725, 8, -463.3127165279167],\n",
       " [5, 463.31271652749973, 10, -463.3127165279167],\n",
       " [2, 463.3127165279169, 11, -463.3127165279169],\n",
       " [4, 463.3127165279169, 11, -463.31271652750013],\n",
       " [5, 463.3127165279169, 11, -463.3127165279167],\n",
       " [10, 463.3127165279169, 11, -463.3127165274999],\n",
       " [11, 463.31271652750013, 13, -463.3127165279167],\n",
       " [4, 463.3127165279167, 17, -463.31271652750013],\n",
       " [7, 463.3127165279167, 17, -463.3127165274999],\n",
       " [3, 463.3127165279167, 18, -463.3127165279165],\n",
       " [4, 463.3127165279167, 18, -463.31271652750013],\n",
       " [7, 463.3127165279167, 18, -463.3127165274999],\n",
       " [8, 463.3127165279167, 18, -463.3127165279167],\n",
       " [4, 463.3127165274999, 19, -463.31271652750013],\n",
       " [10, 463.3127165274999, 19, -463.3127165274999],\n",
       " [11, 463.3127165274999, 19, -463.3127165279167],\n",
       " [3, 463.31271652750013, 22, -463.3127165279165],\n",
       " [6, 463.31271652750013, 22, -463.3127165279167],\n",
       " [2, 463.3127165279169, 24, -463.3127165279169],\n",
       " [6, 463.3127165279169, 24, -463.3127165279167],\n",
       " [4, 463.31271652749973, 25, -463.31271652750013],\n",
       " [5, 463.3127165279165, 26, -463.3127165279167],\n",
       " [5, 463.31271652791725, 27, -463.3127165279167],\n",
       " [7, 463.31271652791725, 27, -463.3127165274999],\n",
       " [5, 463.31271652749973, 28, -463.3127165279167],\n",
       " [10, 463.3127165279165, 30, -463.3127165274999],\n",
       " [11, 463.3127165279165, 30, -463.3127165279167],\n",
       " [12, 463.3127165279165, 30, -463.3127165279167]]"
      ]
     },
     "execution_count": 11,
     "metadata": {},
     "output_type": "execute_result"
    }
   ],
   "source": [
    "# we find all of the files in the local and get their pixels width and height\n",
    "import glob\n",
    "data = []\n",
    "for h in range(1,37):\n",
    "    for v in range(1,19):\n",
    "        temp = 'HDF4_EOS:EOS_GRID:\"%s\":MOD_Grid_BRDF:BRDF_Albedo_Parameters_Band1'\n",
    "        fn = '/home/ucfafyi/DATA/S2_MODIS/m_data/MCD43A1.*.h%02dv%02d.006.*.hdf'\n",
    "        fs = glob.glob(fn%(h,v))   \n",
    "        if fs!=[]:\n",
    "            g = gdal.Open(temp%fs[0])\n",
    "            x_step, y_step = g.GetGeoTransform()[1], g.GetGeoTransform()[-1]\n",
    "            data.append([v, x_step, h, y_step])\n",
    "data"
   ]
  },
  {
   "cell_type": "code",
   "execution_count": 12,
   "metadata": {
    "collapsed": false,
    "scrolled": false
   },
   "outputs": [
    {
     "data": {
      "text/plain": [
       "array([[   5.        ,  463.31271653,    8.        , -463.31271653],\n",
       "       [   5.        ,  463.31271653,   10.        , -463.31271653],\n",
       "       [   2.        ,  463.31271653,   11.        , -463.31271653],\n",
       "       [   4.        ,  463.31271653,   11.        , -463.31271653],\n",
       "       [   5.        ,  463.31271653,   11.        , -463.31271653],\n",
       "       [  10.        ,  463.31271653,   11.        , -463.31271653],\n",
       "       [  11.        ,  463.31271653,   13.        , -463.31271653],\n",
       "       [   4.        ,  463.31271653,   17.        , -463.31271653],\n",
       "       [   7.        ,  463.31271653,   17.        , -463.31271653],\n",
       "       [   3.        ,  463.31271653,   18.        , -463.31271653],\n",
       "       [   4.        ,  463.31271653,   18.        , -463.31271653],\n",
       "       [   7.        ,  463.31271653,   18.        , -463.31271653],\n",
       "       [   8.        ,  463.31271653,   18.        , -463.31271653],\n",
       "       [   4.        ,  463.31271653,   19.        , -463.31271653],\n",
       "       [  10.        ,  463.31271653,   19.        , -463.31271653],\n",
       "       [  11.        ,  463.31271653,   19.        , -463.31271653],\n",
       "       [   3.        ,  463.31271653,   22.        , -463.31271653],\n",
       "       [   6.        ,  463.31271653,   22.        , -463.31271653],\n",
       "       [   2.        ,  463.31271653,   24.        , -463.31271653],\n",
       "       [   6.        ,  463.31271653,   24.        , -463.31271653],\n",
       "       [   4.        ,  463.31271653,   25.        , -463.31271653],\n",
       "       [   5.        ,  463.31271653,   26.        , -463.31271653],\n",
       "       [   5.        ,  463.31271653,   27.        , -463.31271653],\n",
       "       [   7.        ,  463.31271653,   27.        , -463.31271653],\n",
       "       [   5.        ,  463.31271653,   28.        , -463.31271653],\n",
       "       [  10.        ,  463.31271653,   30.        , -463.31271653],\n",
       "       [  11.        ,  463.31271653,   30.        , -463.31271653],\n",
       "       [  12.        ,  463.31271653,   30.        , -463.31271653]])"
      ]
     },
     "execution_count": 12,
     "metadata": {},
     "output_type": "execute_result"
    }
   ],
   "source": [
    "np.array(data)"
   ]
  },
  {
   "cell_type": "markdown",
   "metadata": {},
   "source": [
    "We can see they changing with the tile number, but remmenber that the unit of width is meter and the magnitude is $10^{-8}$, which shoud be nano meter level....? Hence, we only need to fix the pixel width to be 463.31271653 for both diretion and use the NASA provided origins as our origins, as they may change it a little bit to get more precise geolocation for the pixels.......but I could not find the specification......"
   ]
  },
  {
   "cell_type": "code",
   "execution_count": 13,
   "metadata": {
    "collapsed": true
   },
   "outputs": [],
   "source": [
    "#a function transform between different projections....\n",
    "def transform(a = 1):\n",
    "    # from prof. lewis\n",
    "    wgs84 = osr.SpatialReference( ) # Define a SpatialReference object\n",
    "    wgs84.ImportFromEPSG( 4326 ) # And set it to WGS84 using the EPSG code\n",
    "    modis_sinu = osr.SpatialReference() # define the SpatialReference object\n",
    "    # In this case, we get the projection from a Proj4 string\n",
    "    modis_sinu.ImportFromProj4 ( \\\n",
    "                    \"+proj=sinu +lon_0=0 +x_0=0 +y_0=0 +a=6371007.181 +b=6371007.181 +units=m +no_defs\")\n",
    "    \n",
    "    utm = osr.SpatialReference( )\n",
    "    utm.ImportFromProj4 ('+proj=utm +zone=50 +datum=WGS84 +units=m +no_defs')\n",
    "    # add more ....\n",
    "    \n",
    "    if a ==1:\n",
    "        # from modis to wgs 84\n",
    "        tx = osr.CoordinateTransformation(modis_sinu, wgs84)\n",
    "    elif a == 2:\n",
    "        # from wgs 84 to modis\n",
    "        tx = osr.CoordinateTransformation(wgs84,modis_sinu)\n",
    "    elif a == 3:\n",
    "        # from wgs 84 to modis\n",
    "        tx = osr.CoordinateTransformation(wgs84, utm)\n",
    "    elif a == 4:\n",
    "        tx = osr.CoordinateTransformation(utm, wgs84)\n",
    "    # the following two transforms shold be tested before the usage....\n",
    "    # generally WGS84 is reccommonded as the base to convert between\n",
    "    # different projections\n",
    "    elif a == 5:\n",
    "        tx = osr.CoordinateTransformation(modis_sinu, utm)\n",
    "    elif a == 6:\n",
    "        tx = osr.CoordinateTransformation(utm, modis_sinu)\n",
    "    # elif: \n",
    "    #   even more .....\n",
    "    else:\n",
    "        tx = 0\n",
    "        \n",
    "        print 'please define your own transformation....'\n",
    "    \n",
    "    return tx"
   ]
  },
  {
   "cell_type": "code",
   "execution_count": 442,
   "metadata": {
    "collapsed": true
   },
   "outputs": [],
   "source": [
    "# since we have the origins and the steps, we can write a function\n",
    "# to calculate modis tile number with the lat and lon as the inputs\n",
    "x_step = -463.31271653\n",
    "y_step = 463.31271653\n",
    "m_y0, m_x0 = -20015109.354, 10007554.677\n",
    "def mtile_cal(lat, lon):\n",
    "    # a function calculate the tile number for MODIS, based on the lat and lon\n",
    "    tx = transform( a = 2)# from wgs84 to modis \n",
    "    ho,vo,z = tx.TransformPoint(lon, lat)# still use the function instead of using the equation....\n",
    "    h = int((ho-m_y0)/(2400*y_step))\n",
    "    v = int((vo-m_x0)/(2400*x_step))\n",
    "    return h,v"
   ]
  },
  {
   "cell_type": "code",
   "execution_count": 443,
   "metadata": {
    "collapsed": false
   },
   "outputs": [
    {
     "data": {
      "text/plain": [
       "(27, 5)"
      ]
     },
     "execution_count": 443,
     "metadata": {},
     "output_type": "execute_result"
    }
   ],
   "source": [
    "# test it....\n",
    "mtile_cal(37,114) # north China plain"
   ]
  },
  {
   "cell_type": "markdown",
   "metadata": {},
   "source": [
    "Then we can also buld a function to find the longtitude and latitude of each pixel in a modis tile, since the transformation from coarse resolution to high resolution would be much faster than the other way around. \n",
    "\n",
    "But let's first test the results is resonable or not....."
   ]
  },
  {
   "cell_type": "code",
   "execution_count": 444,
   "metadata": {
    "collapsed": true
   },
   "outputs": [],
   "source": [
    "g = gdal.Open('HDF4_EOS:EOS_GRID:\"/home/ucfafyi/DATA/S2_MODIS/m_data/MCD43A1.A2016002.h18v03.006.2016174083634.hdf\":MOD_Grid_BRDF:BRDF_Albedo_Parameters_Band1')\n",
    "rester_wkt = g.GetProjection()\n",
    "UTM = osr.SpatialReference()\n",
    "UTM.ImportFromWkt(raster_wkt) # since Sentinel 2 contain the UTM projection information\n",
    "wgs84 = osr.SpatialReference( ) # Define a SpatialReference object\n",
    "wgs84.ImportFromEPSG( 4326 ) # And set it to WGS84 using the EPSG code\n",
    "tx = osr.CoordinateTransformation(UTM, wgs84)\n",
    "\n",
    "geo_t = g.GetGeoTransform ()\n",
    "x_size = g.RasterXSize # Raster xsize\n",
    "y_size = g.RasterYSize # Raster ysize\n",
    "\n",
    "# Work out the boundaries of the new dataset in the target projection\n",
    "(ulx, uly, ulz ) = tx.TransformPoint( geo_t[0], geo_t[3])\n",
    "\n",
    "(lrx, lry, lrz ) = tx.TransformPoint( geo_t[0] + geo_t[1]*x_size, \\\n",
    "                                      geo_t[3] + geo_t[5]*y_size )\n",
    "\n",
    "(llx, lly, llz ) = tx.TransformPoint( geo_t[0] , \\\n",
    "                                      geo_t[3] + geo_t[5]*y_size )\n",
    "\n",
    "(urx, ury, urz ) = tx.TransformPoint( geo_t[0] + geo_t[1]*x_size, \\\n",
    "                                      geo_t[3]  )\n"
   ]
  },
  {
   "cell_type": "code",
   "execution_count": 445,
   "metadata": {
    "collapsed": false
   },
   "outputs": [
    {
     "data": {
      "text/plain": [
       "(0.0,\n",
       " 59.999999994611805,\n",
       " 15.557238265757757,\n",
       " 49.99999999550685,\n",
       " 0.0,\n",
       " 49.99999999550685,\n",
       " 19.999999994952233,\n",
       " 59.999999994611805)"
      ]
     },
     "execution_count": 445,
     "metadata": {},
     "output_type": "execute_result"
    }
   ],
   "source": [
    "ulx, uly, lrx, lry, llx, lly, urx, ury"
   ]
  },
  {
   "cell_type": "code",
   "execution_count": 704,
   "metadata": {
    "collapsed": false
   },
   "outputs": [
    {
     "data": {
      "text/plain": [
       "((1.7267086847617314e-09, 59.9999999944679),\n",
       " (15.557238267109732, 49.99999999531797),\n",
       " (1.3431409215591316e-09, 49.99999999531797),\n",
       " (19.999999996681876, 59.9999999944679))"
      ]
     },
     "execution_count": 704,
     "metadata": {},
     "output_type": "execute_result"
    }
   ],
   "source": [
    "h = 18; v=3\n",
    "tx = transform(a=1) # from modis to wgs84\n",
    "geo_t = g.GetGeoTransform ()\n",
    "x_size = g.RasterXSize # Raster xsize\n",
    "y_size = g.RasterYSize # Raster ysize\n",
    "\n",
    "# Work out the boundaries of the new dataset in the target projection\n",
    "x_size, y_size = 2400, 2400\n",
    "geo_t0, geo_t3 = m_y0 + h*2400*y_step , m_x0 + v*2400*x_step\n",
    "\n",
    "(ul_lon, ul_lat, ulz ) = tx.TransformPoint( geo_t0, geo_t3)\n",
    "\n",
    "(lr_lon, lr_lat, lrz ) = tx.TransformPoint( geo_t0 + y_step*y_size, \\\n",
    "                                      geo_t3 + x_step*x_size )\n",
    "\n",
    "(ll_lon, ll_lat, llz )  = tx.TransformPoint( geo_t0 , \\\n",
    "                                      geo_t3 + x_step*x_size )\n",
    "\n",
    "(ur_lon, ur_lat, urz ) = tx.TransformPoint( geo_t0 + y_step*y_size, \\\n",
    "                                      geo_t3  )\n",
    "(ul_lon, ul_lat), (lr_lon, lr_lat), (ll_lon, ll_lat), (ur_lon, ur_lat)"
   ]
  },
  {
   "cell_type": "markdown",
   "metadata": {},
   "source": [
    "We can see the corners coordinates calculated with the defult values are very close to those provided by the metedata of MODIS data. So we can use these values to easily do the conversion between Sinusoidal projections and other projections, mainly wgs84 and utm."
   ]
  },
  {
   "cell_type": "markdown",
   "metadata": {},
   "source": [
    "####  Geo_transformation"
   ]
  },
  {
   "cell_type": "markdown",
   "metadata": {},
   "source": [
    "In stead of doing the geo transformation by using gdal, here a index method is proposed to get a more accurate and easier way to produce the mapping between different geographic systems. Actually, what we need to do is finding pixels having the same latitude and lontidude in two images.\n",
    "\n",
    "In order to get the longtitude and latitude of MODIS pixel, we first get the four corners' coordinates in MODIS Sinusoidal projection and project them to longtitude and latitude. Then, a bilinear interpolation is used to get all points longtitude and latitude values."
   ]
  },
  {
   "cell_type": "code",
   "execution_count": 705,
   "metadata": {
    "collapsed": true
   },
   "outputs": [],
   "source": [
    "def bilineanr(coords, dic, cors):\n",
    "    \n",
    "    '''\n",
    "    basically a bilinear interpolation in matrix form (https://en.wikipedia.org/wiki/Bilinear_interpolation) \n",
    "    --------------------------------------------------------------------------------------------------------------\n",
    "    coords is the coordinates [(x1, y1), (x2, y2)...] needed to transfer\n",
    "    \n",
    "    dic is a dictionary of the Upper lfet (UL), UR, LL, LR 's lat and lons\n",
    "    \n",
    "    example: dic ={'LL_LAT': 36.35288,\n",
    "                   'LL_LON': 113.00651,\n",
    "                   'LR_LAT': 36.41186,\n",
    "                   'LR_LON': 115.6326,\n",
    "                   'UL_LAT': 38.51077,\n",
    "                   'UL_LON': 112.88999,\n",
    "                   'UR_LAT': 38.57451,\n",
    "                   'UR_LON': 115.59258}\n",
    "    cors = {'ulx':ulx, 'llx': llx, 'urx': urx, 'lrx': lrx, 'uly': uly, 'lly': lly, 'ury': ury, 'lry': lry}\n",
    "    \n",
    "    corners is the (x, y) corresponding to the shape of the area (array)            \n",
    "    '''\n",
    "    \n",
    "    a = np.matrix([[1, dic['UL_LAT'], dic['UL_LON'], dic['UL_LAT']*dic['UL_LON']],\n",
    "                   [1, dic['LL_LAT'], dic['LL_LON'], dic['LL_LAT']*dic['LL_LON']],\n",
    "                   [1, dic['UR_LAT'], dic['UR_LON'], dic['UR_LAT']*dic['UR_LON']],\n",
    "                   [1, dic['LR_LAT'], dic['LR_LON'], dic['LR_LAT']*dic['LR_LON']],\n",
    "                   ])\n",
    "    \n",
    "    convs = np.ones((4,len(coords[0])))\n",
    "    convs[1] = coords[0]\n",
    "    convs[2] = coords[1] \n",
    "    convs[3] = (coords[0]* coords[1])\n",
    "    convs = np.matrix(convs)\n",
    "\n",
    "    x = np.matrix([cors['ulx'], cors['llx'], cors['urx'], cors['lrx']])*((a**-1).T)*convs\n",
    "    y = np.matrix([cors['uly'], cors['lly'], cors['ury'], cors['lry']])*((a**-1).T)*convs\n",
    "    \n",
    "    return np.array(x).ravel(), np.array(y).ravel()"
   ]
  },
  {
   "cell_type": "code",
   "execution_count": 706,
   "metadata": {
    "collapsed": false
   },
   "outputs": [],
   "source": [
    "# now we get all of the latitudes and longtitudes\n",
    "# the fasest way to make x and y index of a image\n",
    "xs = np.arange(0,2400).repeat(2400)\n",
    "ys = np.tile(np.arange(0,2400), 2400)\n",
    "coords = [xs,ys]\n",
    "# the corners' latitudes and longtitudes\n",
    "cors = {'ulx':ul_lat, 'llx': ll_lat, 'urx': ur_lat, 'lrx': lr_lat,\\\n",
    "        'uly': ul_lon, 'lly': ll_lon, 'ury': ur_lon, 'lry': lr_lon}\n",
    "\n",
    "# corners coordinate in image\n",
    "dic ={'UR_LAT': 0,\n",
    "       'UR_LON': 2399,\n",
    "       'LR_LAT': 2399,\n",
    "       'LR_LON': 2399,\n",
    "       'UL_LAT': 0,\n",
    "       'UL_LON': 0,\n",
    "       'LL_LAT': 2399,\n",
    "       'LL_LON': 0}\n",
    "\n",
    "latitudes, longtitudes = bilineanr(coords, dic, cors)"
   ]
  },
  {
   "cell_type": "code",
   "execution_count": 708,
   "metadata": {
    "collapsed": false
   },
   "outputs": [
    {
     "data": {
      "image/png": "[encoded data removed]",
      "text/plain": [
       "<matplotlib.figure.Figure at 0x7f07bb635d90>"
      ]
     },
     "metadata": {},
     "output_type": "display_data"
    }
   ],
   "source": [
    "# visualise it...\n",
    "fig = plt.figure(figsize=(8,3))\n",
    "ax1 = fig.add_subplot(1,2,1)\n",
    "im = ax1.imshow(latitudes.reshape(2400,2400), interpolation='None')\n",
    "fig.colorbar(im, ax=ax1)\n",
    "ax1.title.set_text('latitudes')\n",
    "ax2 = fig.add_subplot(1,2,2)\n",
    "im = ax2.imshow(longtitudes.reshape(2400,2400), interpolation='None')\n",
    "fig.colorbar(im, ax=ax2)\n",
    "ax2.title.set_text('longtitudes')"
   ]
  },
  {
   "cell_type": "markdown",
   "metadata": {},
   "source": [
    "A nice pattein of the latitude and longtitude change within a MODIS tile..."
   ]
  },
  {
   "cell_type": "markdown",
   "metadata": {},
   "source": [
    "To think about transform between different projection, we also need to think about the issures of the image in one projection covering mitliple tile in another image. Since the relative small amount of values need to be transformed from coarse resolution and there is no need for the sampling process. The transformation from high resolution to coarse resolution is need to be dealt with carefully."
   ]
  },
  {
   "cell_type": "code",
   "execution_count": 709,
   "metadata": {
    "collapsed": false
   },
   "outputs": [
    {
     "name": "stdout",
     "output_type": "stream",
     "text": [
      "(113.58802752133003, 37.8980997872802) (114.8639749541644, 36.93866731107288) (113.63258699687118, 36.91011916105018) (114.83567015867709, 37.927680432881054)\n"
     ]
    }
   ],
   "source": [
    "# we check the sentinel 2 geoinformation again \n",
    "g = gdal.Open('/home/ucfafyi/DATA/S2_MODIS/s_data/50/S/KG/2016/4/13/0/B04.jp2')\n",
    "geo_t = g.GetGeoTransform()\n",
    "x_size, y_size = g.RasterXSize, g.RasterYSize\n",
    "tx = transform(a=4)\n",
    "\n",
    "# so we need the four corners coordiates to check whether they are within the same modis tile\n",
    "(ul_lon, ul_lat, ulz ) = tx.TransformPoint( geo_t[0], geo_t[3])\n",
    "\n",
    "(lr_lon, lr_lat, lrz ) = tx.TransformPoint( geo_t[0] + geo_t[1]*x_size, \\\n",
    "                                      geo_t[3] + geo_t[5]*y_size )\n",
    "\n",
    "(ll_lon, ll_lat, llz ) = tx.TransformPoint( geo_t[0] , \\\n",
    "                                      geo_t[3] + geo_t[5]*y_size )\n",
    "\n",
    "(ur_lon, ur_lat, urz ) = tx.TransformPoint( geo_t[0] + geo_t[1]*x_size, \\\n",
    "                                      geo_t[3]  )\n",
    "\n",
    "print (ul_lon, ul_lat), (lr_lon, lr_lat), (ll_lon, ll_lat), (ur_lon, ur_lat)"
   ]
  },
  {
   "cell_type": "code",
   "execution_count": 710,
   "metadata": {
    "collapsed": false
   },
   "outputs": [
    {
     "name": "stdout",
     "output_type": "stream",
     "text": [
      "(26, 5)\n",
      "(27, 5)\n",
      "(27, 5)\n",
      "(27, 5)\n"
     ]
    }
   ],
   "source": [
    "x_step = -463.31271653\n",
    "y_step = 463.31271653\n",
    "m_y0, m_x0 = -20015109.354, 10007554.677\n",
    "def mtile_cal(lat, lon):\n",
    "    # a function calculate the tile number for MODIS, based on the lat and lon\n",
    "    tx = transform( a = 2)# from wgs84 to modis \n",
    "    ho,vo,z = tx.TransformPoint(lon, lat)# still use the function instead of using the equation....\n",
    "    h = int((ho-m_y0)/(2400*y_step))\n",
    "    v = int((vo-m_x0)/(2400*x_step))\n",
    "    return h,v\n",
    "\n",
    "for i in [(ul_lon, ul_lat), (lr_lon, lr_lat), (ll_lon, ll_lat), (ur_lon, ur_lat)]:\n",
    "    print mtile_cal(i[1], i[0])"
   ]
  },
  {
   "cell_type": "markdown",
   "metadata": {},
   "source": [
    "So there are some abnormal values......which gives us indication that this S2 image covers multiple modis tiles. So we need to split the S2 image based into two parts...."
   ]
  },
  {
   "cell_type": "code",
   "execution_count": 712,
   "metadata": {
    "collapsed": false
   },
   "outputs": [
    {
     "name": "stdout",
     "output_type": "stream",
     "text": [
      "[[0, 26, 5], [1, 27, 5]]\n"
     ]
    }
   ],
   "source": [
    "# to make it a more general method for further usage\n",
    "a0, b0 = None, None\n",
    "corners = [(ul_lon, ul_lat), (lr_lon, lr_lat), (ll_lon, ll_lat), (ur_lon, ur_lat)]\n",
    "tiles = []\n",
    "for i,j  in enumerate(corners):\n",
    "    h,v = mtile_cal(j[1], j[0])\n",
    "    if (h==a0) &(v==b0):\n",
    "        pass\n",
    "    else:\n",
    "        tiles.append([i,h,v]) # o--ul;1--lr;2--ll;3--ur\n",
    "        a0, b0 = h,v\n",
    "print tiles # now we are able to find out the tiles that S2 image covers"
   ]
  },
  {
   "cell_type": "code",
   "execution_count": 713,
   "metadata": {
    "collapsed": false
   },
   "outputs": [
    {
     "data": {
      "text/plain": [
       "(104.43258313297117,\n",
       " 39.99999999616804,\n",
       " 103.92304844317276,\n",
       " 29.99999999701811,\n",
       " 92.37604306070877,\n",
       " 29.99999999701811,\n",
       " 117.48665602445169,\n",
       " 39.99999999616804)"
      ]
     },
     "execution_count": 713,
     "metadata": {},
     "output_type": "execute_result"
    }
   ],
   "source": [
    "h = tiles[0][1]; v= tiles[0][2]\n",
    "tx = transform(a=1) # from modis to wgs84\n",
    "geo_t = g.GetGeoTransform ()\n",
    "x_size = g.RasterXSize # Raster xsize\n",
    "y_size = g.RasterYSize # Raster ysize\n",
    "\n",
    "x_size, y_size = 2400, 2400\n",
    "geo_t0, geo_t3 = m_y0 + h*2400*y_step , m_x0 + v*2400*x_step\n",
    "\n",
    "(ulx, uly, ulz ) = tx.TransformPoint( geo_t0, geo_t3)\n",
    "\n",
    "(lrx, lry, lrz ) = tx.TransformPoint( geo_t0 + y_step*y_size, \\\n",
    "                                      geo_t3 + x_step*x_size )\n",
    "\n",
    "(llx, lly, llz ) = tx.TransformPoint( geo_t0 , \\\n",
    "                                      geo_t3 + x_step*x_size )\n",
    "\n",
    "(urx, ury, urz ) = tx.TransformPoint( geo_t0 + y_step*y_size, \\\n",
    "                                      geo_t3  )\n",
    "ulx, uly, lrx, lry, llx, lly, urx, ury"
   ]
  },
  {
   "cell_type": "code",
   "execution_count": 714,
   "metadata": {
    "collapsed": false
   },
   "outputs": [],
   "source": [
    "h = tiles[1][1]; v= tiles[1][2]"
   ]
  },
  {
   "cell_type": "code",
   "execution_count": 715,
   "metadata": {
    "collapsed": true
   },
   "outputs": [],
   "source": [
    "def get_m_corners(h,v):\n",
    "    tx = transform(a=1) # from modis to wgs84\n",
    "    # Work out the boundaries of the new dataset in the target projection\n",
    "    x_size, y_size = 2400, 2400\n",
    "    geo_t0, geo_t3 = m_y0 + h*2400*y_step , m_x0 + v*2400*x_step\n",
    "\n",
    "    (ul_lon, ul_lat, ulz ) = tx.TransformPoint( geo_t0, geo_t3)\n",
    "\n",
    "    (lr_lon, lr_lat, lrz ) = tx.TransformPoint( geo_t0 + y_step*y_size, \\\n",
    "                                          geo_t3 + x_step*x_size )\n",
    "\n",
    "    (ll_lon, ll_lat, llz )  = tx.TransformPoint( geo_t0 , \\\n",
    "                                          geo_t3 + x_step*x_size )\n",
    "\n",
    "    (ur_lon, ur_lat, urz ) = tx.TransformPoint( geo_t0 + y_step*y_size, \\\n",
    "                                          geo_t3  )\n",
    "    \n",
    "    return ul_lon, ul_lat, lr_lon, lr_lat, ll_lon, ll_lat, ur_lon, ur_lat"
   ]
  },
  {
   "cell_type": "code",
   "execution_count": 716,
   "metadata": {
    "collapsed": false
   },
   "outputs": [],
   "source": [
    "cors = get_m_corners(tiles[0][1],tiles[0][2])\n",
    "corners = dict(zip(['uly', 'ulx', 'lry', 'lrx', 'lly', 'llx', 'ury', 'urx'], cors))"
   ]
  },
  {
   "cell_type": "code",
   "execution_count": 717,
   "metadata": {
    "collapsed": false
   },
   "outputs": [],
   "source": [
    "# the fasest way to make x and y index of a image\n",
    "xs = np.arange(0,2400).repeat(2400)\n",
    "ys = np.tile(np.arange(0,2400), 2400)\n",
    "coords = [xs,ys]"
   ]
  },
  {
   "cell_type": "code",
   "execution_count": 718,
   "metadata": {
    "collapsed": false
   },
   "outputs": [],
   "source": [
    "latitudes, longtitudes = bilineanr(coords, dic, corners)"
   ]
  },
  {
   "cell_type": "code",
   "execution_count": 720,
   "metadata": {
    "collapsed": false
   },
   "outputs": [
    {
     "data": {
      "image/png": "[encoded data removed]",
      "text/plain": [
       "<matplotlib.figure.Figure at 0x7f07d2bb11d0>"
      ]
     },
     "metadata": {},
     "output_type": "display_data"
    }
   ],
   "source": [
    "# visualise it...\n",
    "fig = plt.figure(figsize=(8,3))\n",
    "ax1 = fig.add_subplot(1,2,1)\n",
    "im = ax1.imshow(latitudes.reshape(2400,2400), interpolation='None')\n",
    "fig.colorbar(im, ax=ax1)\n",
    "ax1.title.set_text('latitudes')\n",
    "ax2 = fig.add_subplot(1,2,2)\n",
    "im = ax2.imshow(longtitudes.reshape(2400,2400), interpolation='None')\n",
    "fig.colorbar(im, ax=ax2)\n",
    "ax2.title.set_text('longtitudes')"
   ]
  },
  {
   "cell_type": "code",
   "execution_count": 721,
   "metadata": {
    "collapsed": false
   },
   "outputs": [
    {
     "data": {
      "image/png": "[encoded data removed]",
      "text/plain": [
       "<matplotlib.figure.Figure at 0x7f07bbc44a50>"
      ]
     },
     "metadata": {},
     "output_type": "display_data"
    }
   ],
   "source": [
    "# the modis tiles covered by S2\n",
    "n = len(tiles)\n",
    "fig, big_axes = plt.subplots( figsize=(9,4*n) , nrows=2, ncols=1, sharey=True) \n",
    "\n",
    "for row, big_ax in enumerate(big_axes.ravel(), start=1):\n",
    "    big_ax.set_title(\"h%02dv%02d\" % (tiles[row-1][1], tiles[row-1][2]), fontsize=16)\n",
    "\n",
    "    # Turn off axis lines and ticks of the big subplot \n",
    "    # obs alpha is 0 in RGBA string!\n",
    "    big_ax.tick_params(labelcolor=(1.,1.,1., 0.0), top='off', bottom='off', left='off', right='off')\n",
    "    # removes the white frame\n",
    "    big_ax._frameon = False\n",
    "\n",
    "for _,i in enumerate(tiles):\n",
    "    cors = get_m_corners(i[1],i[2])\n",
    "    corners = dict(zip(['uly', 'ulx', 'lry', 'lrx', 'lly', 'llx', 'ury', 'urx'], cors))\n",
    "    latitudes, longtitudes = bilineanr(coords, dic, corners)\n",
    "    ax1 = fig.add_subplot(n,2,2*_+1)\n",
    "    im = ax1.imshow(latitudes.reshape(2400,2400), interpolation='None', vmin=29, vmax=41)\n",
    "    fig.colorbar(im, ax=ax1)\n",
    "    ax2 = fig.add_subplot(n,2,2*_+2)\n",
    "    im = ax2.imshow(longtitudes.reshape(2400,2400), interpolation='None', vmin=100, vmax=135)\n",
    "    fig.colorbar(im, ax=ax2)\n",
    "    ax1.title.set_text('latitude')\n",
    "    ax2.title.set_text('longtitude')\n",
    "plt.tight_layout()"
   ]
  },
  {
   "cell_type": "markdown",
   "metadata": {},
   "source": [
    "Now we are able to convert each modis tiles, covered by S2 tile, to wgs84 coordinates. So we need to find those pixels are actually within S2 tile, and find the corresponding indexes in S2 and MODIS. "
   ]
  },
  {
   "cell_type": "markdown",
   "metadata": {
    "collapsed": true
   },
   "source": [
    "It's time to find the MODIS pixels within a S2 tile...."
   ]
  },
  {
   "cell_type": "code",
   "execution_count": 723,
   "metadata": {
    "collapsed": false
   },
   "outputs": [
    {
     "name": "stdout",
     "output_type": "stream",
     "text": [
      "(113.58802752133003, 37.8980997872802) (114.8639749541644, 36.93866731107288) (113.63258699687118, 36.91011916105018) (114.83567015867709, 37.927680432881054)\n"
     ]
    }
   ],
   "source": [
    "# we check the sentinel 2 geoinformation again \n",
    "g = gdal.Open('/home/ucfafyi/DATA/S2_MODIS/s_data/50/S/KG/2016/4/13/0/B04.jp2')\n",
    "geo_t = g.GetGeoTransform()\n",
    "x_size, y_size = g.RasterXSize, g.RasterYSize\n",
    "tx = transform(a=4)\n",
    "\n",
    "# so we need the four corners coordiates to check whether they are within the same modis tile\n",
    "(ul_lon, ul_lat, ulz ) = tx.TransformPoint( geo_t[0], geo_t[3])\n",
    "\n",
    "(lr_lon, lr_lat, lrz ) = tx.TransformPoint( geo_t[0] + geo_t[1]*x_size, \\\n",
    "                                      geo_t[3] + geo_t[5]*y_size )\n",
    "\n",
    "(ll_lon, ll_lat, llz ) = tx.TransformPoint( geo_t[0] , \\\n",
    "                                      geo_t[3] + geo_t[5]*y_size )\n",
    "\n",
    "(ur_lon, ur_lat, urz ) = tx.TransformPoint( geo_t[0] + geo_t[1]*x_size, \\\n",
    "                                      geo_t[3]  )\n",
    "\n",
    "print (ul_lon, ul_lat), (lr_lon, lr_lat), (ll_lon, ll_lat), (ur_lon, ur_lat)"
   ]
  },
  {
   "cell_type": "code",
   "execution_count": 724,
   "metadata": {
    "collapsed": false
   },
   "outputs": [
    {
     "data": {
      "text/plain": [
       "{'LL_LAT': 36.91011916105018,\n",
       " 'LL_LON': 113.63258699687118,\n",
       " 'LR_LAT': 36.93866731107288,\n",
       " 'LR_LON': 114.8639749541644,\n",
       " 'UL_LAT': 37.8980997872802,\n",
       " 'UL_LON': 113.58802752133003,\n",
       " 'UR_LAT': 37.927680432881054,\n",
       " 'UR_LON': 114.83567015867709}"
      ]
     },
     "execution_count": 724,
     "metadata": {},
     "output_type": "execute_result"
    }
   ],
   "source": [
    "# now its the s2 corners latitudes and longtitudes\n",
    "dic ={'UR_LAT': ur_lat,\n",
    "       'UR_LON': ur_lon,\n",
    "       'LR_LAT': lr_lat,\n",
    "       'LR_LON': lr_lon,\n",
    "       'UL_LAT': ul_lat,\n",
    "       'UL_LON': ul_lon,\n",
    "       'LL_LAT': ll_lat,\n",
    "       'LL_LON': ll_lon}\n",
    "dic"
   ]
  },
  {
   "cell_type": "code",
   "execution_count": 725,
   "metadata": {
    "collapsed": false
   },
   "outputs": [
    {
     "data": {
      "text/plain": [
       "{'llx': 10980,\n",
       " 'lly': 0,\n",
       " 'lrx': 10980,\n",
       " 'lry': 10980,\n",
       " 'ulx': 0,\n",
       " 'uly': 0,\n",
       " 'urx': 0,\n",
       " 'ury': 10980}"
      ]
     },
     "execution_count": 725,
     "metadata": {},
     "output_type": "execute_result"
    }
   ],
   "source": [
    "coords = [latitudes, longtitudes]\n",
    "cors = ulx, uly, lrx, lry, llx, lly, urx, ury = 0,0,x_size, y_size, x_size,0, 0, y_size \n",
    "corners = dict(zip(['ulx', 'uly', 'lrx', 'lry', 'llx', 'lly', 'urx', 'ury'], cors))\n",
    "corners"
   ]
  },
  {
   "cell_type": "code",
   "execution_count": 726,
   "metadata": {
    "collapsed": false
   },
   "outputs": [
    {
     "data": {
      "text/plain": [
       "(0, 10980, 0, 10980, 0, 0, 10980, 10980)"
      ]
     },
     "execution_count": 726,
     "metadata": {},
     "output_type": "execute_result"
    }
   ],
   "source": [
    "ulx, llx, urx, lrx, uly, lly, ury, lry"
   ]
  },
  {
   "cell_type": "code",
   "execution_count": 727,
   "metadata": {
    "collapsed": false
   },
   "outputs": [],
   "source": [
    "cors = bilineanr([latitudes, longtitudes], dic, corners)\n",
    "hinds =np.array([cors[0][(cors[0]>=0)&(cors[0]<x_size)&(cors[1]>=0)&(cors[1]<y_size)],\n",
    "                 cors[1][(cors[0]>=0)&(cors[0]<x_size)&(cors[1]>=0)&(cors[1]<y_size)]]).astype(int)\n",
    "minds = np.where(((cors[0]>=0)&(cors[0]<x_size)&(cors[1]>=0)&(cors[1]<y_size)).reshape((2400,2400)))"
   ]
  },
  {
   "cell_type": "code",
   "execution_count": 728,
   "metadata": {
    "collapsed": false
   },
   "outputs": [
    {
     "name": "stdout",
     "output_type": "stream",
     "text": [
      "h27v05 \n",
      "[[    0     1     2 ..., 10976 10977 10978]\n",
      " [ 9671  9718  9765 ...,   284   331   378]] \n",
      "[[498 498 498 ..., 741 741 741]\n",
      " [  3   4   5 ...,  70  71  72]]\n"
     ]
    }
   ],
   "source": [
    "print 'h%02dv%02d \\n'%(h,v), hinds,'\\n', np.array(minds)"
   ]
  },
  {
   "cell_type": "code",
   "execution_count": 729,
   "metadata": {
    "collapsed": false
   },
   "outputs": [
    {
     "data": {
      "text/plain": [
       "(2, 37470)"
      ]
     },
     "execution_count": 729,
     "metadata": {},
     "output_type": "execute_result"
    }
   ],
   "source": [
    "hinds.shape"
   ]
  },
  {
   "cell_type": "code",
   "execution_count": 730,
   "metadata": {
    "collapsed": false
   },
   "outputs": [
    {
     "data": {
      "text/plain": [
       "(2, 37470)"
      ]
     },
     "execution_count": 730,
     "metadata": {},
     "output_type": "execute_result"
    }
   ],
   "source": [
    "np.array(minds).shape"
   ]
  },
  {
   "cell_type": "markdown",
   "metadata": {},
   "source": [
    "So now we are able to find the corresponding pixels in S2 and MODIS tile. Apply the same method to other MODIS tile to get those S2 pixels within MODIS."
   ]
  },
  {
   "cell_type": "code",
   "execution_count": 731,
   "metadata": {
    "collapsed": false
   },
   "outputs": [],
   "source": [
    "xs = np.arange(0,2400).repeat(2400)\n",
    "ys = np.tile(np.arange(0,2400), 2400)\n",
    "m_coords = [xs,ys]\n",
    "\n",
    "# corners coordinate in image\n",
    "m_dic ={'UR_LAT': 0,\n",
    "       'UR_LON': 2399,\n",
    "       'LR_LAT': 2399,\n",
    "       'LR_LON': 2399,\n",
    "       'UL_LAT': 0,\n",
    "       'UL_LON': 0,\n",
    "       'LL_LAT': 2399,\n",
    "       'LL_LON': 0}\n",
    "\n",
    "#latitudes, longtitudes = bilineanr(coords, dic, cors)\n"
   ]
  },
  {
   "cell_type": "code",
   "execution_count": 732,
   "metadata": {
    "collapsed": false
   },
   "outputs": [
    {
     "name": "stdout",
     "output_type": "stream",
     "text": [
      "(113.58802752133003, 37.8980997872802) (114.8639749541644, 36.93866731107288) (113.63258699687118, 36.91011916105018) (114.83567015867709, 37.927680432881054)\n"
     ]
    }
   ],
   "source": [
    "# we check the sentinel 2 geoinformation again \n",
    "g = gdal.Open('/home/ucfafyi/DATA/S2_MODIS/s_data/50/S/KG/2016/4/13/0/B04.jp2')\n",
    "geo_t = g.GetGeoTransform()\n",
    "x_size, y_size = g.RasterXSize, g.RasterYSize\n",
    "tx = transform(a=4)\n",
    "\n",
    "# so we need the four corners coordiates to check whether they are within the same modis tile\n",
    "(ul_lon, ul_lat, ulz ) = tx.TransformPoint( geo_t[0], geo_t[3])\n",
    "\n",
    "(lr_lon, lr_lat, lrz ) = tx.TransformPoint( geo_t[0] + geo_t[1]*x_size, \\\n",
    "                                      geo_t[3] + geo_t[5]*y_size )\n",
    "\n",
    "(ll_lon, ll_lat, llz ) = tx.TransformPoint( geo_t[0] , \\\n",
    "                                      geo_t[3] + geo_t[5]*y_size )\n",
    "\n",
    "(ur_lon, ur_lat, urz ) = tx.TransformPoint( geo_t[0] + geo_t[1]*x_size, \\\n",
    "                                      geo_t[3]  )\n",
    "\n",
    "print (ul_lon, ul_lat), (lr_lon, lr_lat), (ll_lon, ll_lat), (ur_lon, ur_lat)\n",
    "# now its the s2 corners latitudes and longtitudes\n",
    "s_dic ={'UR_LAT': ur_lat,\n",
    "       'UR_LON': ur_lon,\n",
    "       'LR_LAT': lr_lat,\n",
    "       'LR_LON': lr_lon,\n",
    "       'UL_LAT': ul_lat,\n",
    "       'UL_LON': ul_lon,\n",
    "       'LL_LAT': ll_lat,\n",
    "       'LL_LON': ll_lon}\n",
    "s_cors = ulx, uly, lrx, lry, llx, lly, urx, ury = 0,0,x_size, y_size, x_size,0, 0, y_size \n",
    "s_corners = dict(zip(['ulx', 'uly', 'lrx', 'lry', 'llx', 'lly', 'urx', 'ury'], s_cors))"
   ]
  },
  {
   "cell_type": "code",
   "execution_count": 733,
   "metadata": {
    "collapsed": false
   },
   "outputs": [
    {
     "name": "stdout",
     "output_type": "stream",
     "text": [
      "0\n",
      "CPU times: user 4.69 s, sys: 12 s, total: 16.7 s\n",
      "Wall time: 2.07 s\n"
     ]
    }
   ],
   "source": [
    "%%time\n",
    "inds = {}\n",
    "for i in tiles:\n",
    "    m_cors = get_m_corners(i[1],i[2])\n",
    "    m_corners = dict(zip(['uly', 'ulx', 'lry', 'lrx', 'lly', 'llx', 'ury', 'urx'], m_cors))\n",
    "    latitudes, longtitudes = bilineanr(m_coords, m_dic, m_corners)\n",
    "    \n",
    "    cors = bilineanr([latitudes, longtitudes], s_dic, s_corners)\n",
    "    \n",
    "    hinds =np.array([cors[0][(cors[0]>=0)&(cors[0]<x_size)&(cors[1]>=0)&(cors[1]<y_size)],\n",
    "                 cors[1][(cors[0]>=0)&(cors[0]<x_size)&(cors[1]>=0)&(cors[1]<y_size)]]).astype(int)\n",
    "    minds = np.where(((cors[0]>=0)&(cors[0]<x_size)&(cors[1]>=0)&(cors[1]<y_size)).reshape((2400,2400)))\n",
    "    inds['h%02dv%02d'%(i[1],i[2])] = [hinds, np.array(minds)]\n",
    "print '0'"
   ]
  },
  {
   "cell_type": "code",
   "execution_count": 734,
   "metadata": {
    "collapsed": false
   },
   "outputs": [
    {
     "data": {
      "text/plain": [
       "{'h26v05': [array([[   0,    1,    3, ..., 8235, 8237, 8281],\n",
       "         [8126, 8173, 8220, ...,   34,   81,   29]]),\n",
       "  array([[ 499,  499,  499, ...,  682,  682,  683],\n",
       "         [2370, 2371, 2372, ..., 2398, 2399, 2399]])],\n",
       " 'h27v05': [array([[    0,     1,     2, ..., 10976, 10977, 10978],\n",
       "         [ 9671,  9718,  9765, ...,   284,   331,   378]]),\n",
       "  array([[498, 498, 498, ..., 741, 741, 741],\n",
       "         [  3,   4,   5, ...,  70,  71,  72]])]}"
      ]
     },
     "execution_count": 734,
     "metadata": {},
     "output_type": "execute_result"
    }
   ],
   "source": [
    "inds"
   ]
  },
  {
   "cell_type": "code",
   "execution_count": 735,
   "metadata": {
    "collapsed": false
   },
   "outputs": [
    {
     "data": {
      "image/png": "[encoded data removed]",
      "text/plain": [
       "<matplotlib.figure.Figure at 0x7f07bb589210>"
      ]
     },
     "metadata": {},
     "output_type": "display_data"
    }
   ],
   "source": [
    "# the modis tiles covered by S2\n",
    "n = len(tiles)\n",
    "fig, big_axes = plt.subplots( figsize=(9,4*n) , nrows=2, ncols=1, sharey=True) \n",
    "\n",
    "for row, big_ax in enumerate(big_axes.ravel(), start=1):\n",
    "    big_ax.set_title(\"h%02dv%02d\" % (tiles[row-1][1], tiles[row-1][2]), fontsize=16)\n",
    "\n",
    "    # Turn off axis lines and ticks of the big subplot \n",
    "    # obs alpha is 0 in RGBA string!\n",
    "    big_ax.tick_params(labelcolor=(1.,1.,1., 0.0), top='off', bottom='off', left='off', right='off')\n",
    "    # removes the white frame\n",
    "    big_ax._frameon = False\n",
    "    \n",
    "    \n",
    "inds = {}\n",
    "for _,i in enumerate(tiles):\n",
    "    m_cors = get_m_corners(i[1],i[2])\n",
    "    m_corners = dict(zip(['uly', 'ulx', 'lry', 'lrx', 'lly', 'llx', 'ury', 'urx'], m_cors))\n",
    "    latitudes, longtitudes = bilineanr(m_coords, m_dic, m_corners)\n",
    "    ax1 = fig.add_subplot(n,2,2*_+1)\n",
    "    im = ax1.imshow(latitudes.reshape(2400,2400), interpolation='None', vmin=29, vmax=41)\n",
    "    fig.colorbar(im, ax=ax1)\n",
    "    ax2 = fig.add_subplot(n,2,2*_+2)\n",
    "    im = ax2.imshow(longtitudes.reshape(2400,2400), interpolation='None', vmin=100, vmax=135)\n",
    "    fig.colorbar(im, ax=ax2)\n",
    "    ax1.title.set_text('latitude')\n",
    "    ax2.title.set_text('longtitude')\n",
    "\n",
    "    cors = bilineanr([latitudes, longtitudes], s_dic, s_corners)\n",
    "    \n",
    "    hinds =np.array([cors[0][(cors[0]>=0)&(cors[0]<x_size)&(cors[1]>=0)&(cors[1]<y_size)],\n",
    "                 cors[1][(cors[0]>=0)&(cors[0]<x_size)&(cors[1]>=0)&(cors[1]<y_size)]]).astype(int)\n",
    "    minds = np.where(((cors[0]>=0)&(cors[0]<x_size)&(cors[1]>=0)&(cors[1]<y_size)).reshape((2400,2400)))\n",
    "    inds['h%02dv%02d'%(i[1],i[2])] = [hinds, np.array(minds)]\n",
    "plt.tight_layout()"
   ]
  },
  {
   "cell_type": "markdown",
   "metadata": {},
   "source": [
    "To wrap it up....."
   ]
  },
  {
   "cell_type": "code",
   "execution_count": 736,
   "metadata": {
    "collapsed": false
   },
   "outputs": [],
   "source": [
    "# The input, a SENTINEL2 tile\n",
    "# we check the sentinel 2 geoinformation again \n",
    "g = gdal.Open('/home/ucfafyi/DATA/S2_MODIS/s_data/50/S/KG/2016/4/13/0/B04.jp2')\n",
    "geo_t = g.GetGeoTransform()\n",
    "x_size, y_size = g.RasterXSize, g.RasterYSize\n",
    "tx = transform(a=4)\n",
    "\n",
    "# so we need the four corners coordiates to check whether they are within the same modis tile\n",
    "(ul_lon, ul_lat, ulz ) = tx.TransformPoint( geo_t[0], geo_t[3])\n",
    "\n",
    "(lr_lon, lr_lat, lrz ) = tx.TransformPoint( geo_t[0] + geo_t[1]*x_size, \\\n",
    "                                      geo_t[3] + geo_t[5]*y_size )\n",
    "\n",
    "(ll_lon, ll_lat, llz ) = tx.TransformPoint( geo_t[0] , \\\n",
    "                                      geo_t[3] + geo_t[5]*y_size )\n",
    "\n",
    "(ur_lon, ur_lat, urz ) = tx.TransformPoint( geo_t[0] + geo_t[1]*x_size, \\\n",
    "                                      geo_t[3]  )\n",
    "\n",
    "#print (ul_lon, ul_lat), (lr_lon, lr_lat), (ll_lon, ll_lat), (ur_lon, ur_lat)\n",
    "# now its the s2 corners latitudes and longtitudes\n",
    "s_dic ={'UR_LAT': ur_lat,\n",
    "       'UR_LON': ur_lon,\n",
    "       'LR_LAT': lr_lat,\n",
    "       'LR_LON': lr_lon,\n",
    "       'UL_LAT': ul_lat,\n",
    "       'UL_LON': ul_lon,\n",
    "       'LL_LAT': ll_lat,\n",
    "       'LL_LON': ll_lon}\n",
    "s_cors = ulx, uly, lrx, lry, llx, lly, urx, ury = 0,0,x_size, y_size, x_size,0, 0, y_size \n",
    "s_corners = dict(zip(['ulx', 'uly', 'lrx', 'lry', 'llx', 'lly', 'urx', 'ury'], s_cors))"
   ]
  },
  {
   "cell_type": "code",
   "execution_count": 737,
   "metadata": {
    "collapsed": false
   },
   "outputs": [
    {
     "name": "stdout",
     "output_type": "stream",
     "text": [
      "[[0, 26, 5], [1, 27, 5]]\n"
     ]
    }
   ],
   "source": [
    "# find out the modis tiles\n",
    "a0, b0 = None, None\n",
    "corners = [(ul_lon, ul_lat), (lr_lon, lr_lat), (ll_lon, ll_lat), (ur_lon, ur_lat)]\n",
    "tiles = []\n",
    "for i,j  in enumerate(corners):\n",
    "    h,v = mtile_cal(j[1], j[0])\n",
    "    if (h==a0) &(v==b0):\n",
    "        pass\n",
    "    else:\n",
    "        tiles.append([i,h,v]) # o--ul;1--lr;2--ll;3--ur\n",
    "        a0, b0 = h,v\n",
    "print tiles # now we are able to find out the tiles that S2 image covers"
   ]
  },
  {
   "cell_type": "code",
   "execution_count": 738,
   "metadata": {
    "collapsed": true
   },
   "outputs": [],
   "source": [
    "# The modis defults\n",
    "xs = np.arange(0,2400).repeat(2400)\n",
    "ys = np.tile(np.arange(0,2400), 2400)\n",
    "m_coords = [xs,ys]\n",
    "\n",
    "# corners coordinate in image\n",
    "m_dic ={'UR_LAT': 0,\n",
    "       'UR_LON': 2399,\n",
    "       'LR_LAT': 2399,\n",
    "       'LR_LON': 2399,\n",
    "       'UL_LAT': 0,\n",
    "       'UL_LON': 0,\n",
    "       'LL_LAT': 2399,\n",
    "       'LL_LON': 0}"
   ]
  },
  {
   "cell_type": "code",
   "execution_count": 739,
   "metadata": {
    "collapsed": true
   },
   "outputs": [],
   "source": [
    "# get the corresponding indexes\n",
    "inds = {}\n",
    "for i in tiles:\n",
    "    m_cors = get_m_corners(i[1],i[2])\n",
    "    m_corners = dict(zip(['uly', 'ulx', 'lry', 'lrx', 'lly', 'llx', 'ury', 'urx'], m_cors))\n",
    "    latitudes, longtitudes = bilineanr(m_coords, m_dic, m_corners)\n",
    "    \n",
    "    cors = bilineanr([latitudes, longtitudes], s_dic, s_corners)\n",
    "    \n",
    "    hinds =np.array([cors[0][(cors[0]>=0)&(cors[0]<x_size)&(cors[1]>=0)&(cors[1]<y_size)],\n",
    "                 cors[1][(cors[0]>=0)&(cors[0]<x_size)&(cors[1]>=0)&(cors[1]<y_size)]]).astype(int)\n",
    "    minds = np.where(((cors[0]>=0)&(cors[0]<x_size)&(cors[1]>=0)&(cors[1]<y_size)).reshape((2400,2400)))\n",
    "    inds['h%02dv%02d'%(i[1],i[2])] = [hinds, np.array(minds)]"
   ]
  },
  {
   "cell_type": "code",
   "execution_count": 740,
   "metadata": {
    "collapsed": false
   },
   "outputs": [
    {
     "data": {
      "image/png": "[encoded data removed]",
      "text/plain": [
       "<matplotlib.figure.Figure at 0x7f07ba36c1d0>"
      ]
     },
     "metadata": {},
     "output_type": "display_data"
    }
   ],
   "source": [
    "# or make plot the longtitude and latitude for checking purpose\n",
    "n = len(tiles)\n",
    "fig, big_axes = plt.subplots( figsize=(9,4*n) , nrows=2, ncols=1, sharey=True) \n",
    "\n",
    "for row, big_ax in enumerate(big_axes.ravel(), start=1):\n",
    "    big_ax.set_title(\"h%02dv%02d\" % (tiles[row-1][1], tiles[row-1][2]), fontsize=16)\n",
    "\n",
    "    # Turn off axis lines and ticks of the big subplot \n",
    "    # obs alpha is 0 in RGBA string!\n",
    "    big_ax.tick_params(labelcolor=(1.,1.,1., 0.0), top='off', bottom='off', left='off', right='off')\n",
    "    # removes the white frame\n",
    "    big_ax._frameon = False\n",
    "    \n",
    "    \n",
    "inds = {}\n",
    "for _,i in enumerate(tiles):\n",
    "    m_cors = get_m_corners(i[1],i[2])\n",
    "    m_corners = dict(zip(['uly', 'ulx', 'lry', 'lrx', 'lly', 'llx', 'ury', 'urx'], m_cors))\n",
    "    latitudes, longtitudes = bilineanr(m_coords, m_dic, m_corners)\n",
    "    ax1 = fig.add_subplot(n,2,2*_+1)\n",
    "    im = ax1.imshow(latitudes.reshape(2400,2400), interpolation='None', vmin=29, vmax=41)\n",
    "    fig.colorbar(im, ax=ax1)\n",
    "    ax2 = fig.add_subplot(n,2,2*_+2)\n",
    "    im = ax2.imshow(longtitudes.reshape(2400,2400), interpolation='None', vmin=100, vmax=135)\n",
    "    fig.colorbar(im, ax=ax2)\n",
    "    ax1.title.set_text('latitude')\n",
    "    ax2.title.set_text('longtitude')\n",
    "\n",
    "    cors = bilineanr([latitudes, longtitudes], s_dic, s_corners)\n",
    "    \n",
    "    hinds =np.array([cors[0][(cors[0]>=0)&(cors[0]<x_size)&(cors[1]>=0)&(cors[1]<y_size)],\n",
    "                 cors[1][(cors[0]>=0)&(cors[0]<x_size)&(cors[1]>=0)&(cors[1]<y_size)]]).astype(int)\n",
    "    minds = np.where(((cors[0]>=0)&(cors[0]<x_size)&(cors[1]>=0)&(cors[1]<y_size)).reshape((2400,2400)))\n",
    "    inds['h%02dv%02d'%(i[1],i[2])] = [hinds, np.array(minds)]\n",
    "plt.tight_layout()"
   ]
  },
  {
   "cell_type": "markdown",
   "metadata": {},
   "source": [
    "#### Functions:"
   ]
  },
  {
   "cell_type": "code",
   "execution_count": 741,
   "metadata": {
    "collapsed": true
   },
   "outputs": [],
   "source": [
    "#a function transform between different projections....\n",
    "def transform(a = 1):\n",
    "    # from prof. lewis\n",
    "    wgs84 = osr.SpatialReference( ) # Define a SpatialReference object\n",
    "    wgs84.ImportFromEPSG( 4326 ) # And set it to WGS84 using the EPSG code\n",
    "    modis_sinu = osr.SpatialReference() # define the SpatialReference object\n",
    "    # In this case, we get the projection from a Proj4 string\n",
    "    modis_sinu.ImportFromProj4 ( \\\n",
    "                    \"+proj=sinu +lon_0=0 +x_0=0 +y_0=0 +a=6371007.181 +b=6371007.181 +units=m +no_defs\")\n",
    "    \n",
    "    utm = osr.SpatialReference( )\n",
    "    utm.ImportFromProj4 ('+proj=utm +zone=50 +datum=WGS84 +units=m +no_defs')\n",
    "    # add more ....\n",
    "    \n",
    "    if a ==1:\n",
    "        # from modis to wgs 84\n",
    "        tx = osr.CoordinateTransformation(modis_sinu, wgs84)\n",
    "    elif a == 2:\n",
    "        # from wgs 84 to modis\n",
    "        tx = osr.CoordinateTransformation(wgs84,modis_sinu)\n",
    "    elif a == 3:\n",
    "        # from wgs 84 to modis\n",
    "        tx = osr.CoordinateTransformation(wgs84, utm)\n",
    "    elif a == 4:\n",
    "        tx = osr.CoordinateTransformation(utm, wgs84)\n",
    "    # the following two transforms shold be tested before the usage....\n",
    "    # generally WGS84 is reccommonded as the base to convert between\n",
    "    # different projections\n",
    "    elif a == 5:\n",
    "        tx = osr.CoordinateTransformation(modis_sinu, utm)\n",
    "    elif a == 6:\n",
    "        tx = osr.CoordinateTransformation(utm, modis_sinu)\n",
    "    # elif: \n",
    "    #   even more .....\n",
    "    else:\n",
    "        tx = 0\n",
    "        \n",
    "        print 'please define your own transformation....'\n",
    "    \n",
    "    return tx\n",
    "# since we have the origins and the steps, we can write a function\n",
    "# to calculate modis tile number with the lat and lon as the inputs\n",
    "\n",
    "\n",
    "\n",
    "\n",
    "x_step = -463.31271653\n",
    "y_step = 463.31271653\n",
    "m_y0, m_x0 = -20015109.354, 10007554.677\n",
    "def mtile_cal(lat, lon):\n",
    "    # a function calculate the tile number for MODIS, based on the lat and lon\n",
    "    tx = transform( a = 2)# from wgs84 to modis \n",
    "    ho,vo,z = tx.TransformPoint(lon, lat)# still use the function instead of using the equation....\n",
    "    h = int((ho-m_y0)/(2400*y_step))\n",
    "    v = int((vo-m_x0)/(2400*x_step))\n",
    "    return h,v\n",
    "\n",
    "def get_m_corners(h,v):\n",
    "    tx = transform(a=1) # from modis to wgs84\n",
    "    # Work out the boundaries of the new dataset in the target projection\n",
    "    x_size, y_size = 2400, 2400\n",
    "    geo_t0, geo_t3 = m_y0 + h*2400*y_step , m_x0 + v*2400*x_step\n",
    "\n",
    "    (ul_lon, ul_lat, ulz ) = tx.TransformPoint( geo_t0, geo_t3)\n",
    "\n",
    "    (lr_lon, lr_lat, lrz ) = tx.TransformPoint( geo_t0 + y_step*y_size, \\\n",
    "                                          geo_t3 + x_step*x_size )\n",
    "\n",
    "    (ll_lon, ll_lat, llz )  = tx.TransformPoint( geo_t0 , \\\n",
    "                                          geo_t3 + x_step*x_size )\n",
    "\n",
    "    (ur_lon, ur_lat, urz ) = tx.TransformPoint( geo_t0 + y_step*y_size, \\\n",
    "                                          geo_t3  )\n",
    "    \n",
    "    return ul_lon, ul_lat, lr_lon, lr_lat, ll_lon, ll_lat, ur_lon, ur_lat\n",
    "\n",
    "\n",
    "def bilineanr(coords, dic, cors):\n",
    "    \n",
    "    '''\n",
    "    basically a bilinear interpolation in matrix form (https://en.wikipedia.org/wiki/Bilinear_interpolation) \n",
    "    --------------------------------------------------------------------------------------------------------------\n",
    "    coords is the coordinates [(x1, y1), (x2, y2)...] needed to transfer\n",
    "    \n",
    "    dic is a dictionary of the Upper lfet (UL), UR, LL, LR 's lat and lons\n",
    "    \n",
    "    example: dic ={'LL_LAT': 36.35288,\n",
    "                   'LL_LON': 113.00651,\n",
    "                   'LR_LAT': 36.41186,\n",
    "                   'LR_LON': 115.6326,\n",
    "                   'UL_LAT': 38.51077,\n",
    "                   'UL_LON': 112.88999,\n",
    "                   'UR_LAT': 38.57451,\n",
    "                   'UR_LON': 115.59258}\n",
    "    cors = {'ulx':ulx, 'llx': llx, 'urx': urx, 'lrx': lrx, 'uly': uly, 'lly': lly, 'ury': ury, 'lry': lry}\n",
    "    \n",
    "    corners is the (x, y) corresponding to the shape of the area (array)            \n",
    "    '''\n",
    "    \n",
    "    a = np.matrix([[1, dic['UL_LAT'], dic['UL_LON'], dic['UL_LAT']*dic['UL_LON']],\n",
    "                   [1, dic['LL_LAT'], dic['LL_LON'], dic['LL_LAT']*dic['LL_LON']],\n",
    "                   [1, dic['UR_LAT'], dic['UR_LON'], dic['UR_LAT']*dic['UR_LON']],\n",
    "                   [1, dic['LR_LAT'], dic['LR_LON'], dic['LR_LAT']*dic['LR_LON']],\n",
    "                   ])\n",
    "    \n",
    "    convs = np.ones((4,len(coords[0])))\n",
    "    convs[1] = coords[0]\n",
    "    convs[2] = coords[1] \n",
    "    convs[3] = (coords[0]* coords[1])\n",
    "    convs = np.matrix(convs)\n",
    "\n",
    "    x = np.matrix([cors['ulx'], cors['llx'], cors['urx'], cors['lrx']])*((a**-1).T)*convs\n",
    "    y = np.matrix([cors['uly'], cors['lly'], cors['ury'], cors['lry']])*((a**-1).T)*convs\n",
    "    \n",
    "    return np.array(x).ravel(), np.array(y).ravel()\n"
   ]
  },
  {
   "cell_type": "code",
   "execution_count": 747,
   "metadata": {
    "collapsed": false
   },
   "outputs": [],
   "source": [
    "def Find_corresponding_pixels(H_res_fname, destination_res=500):\n",
    "    \n",
    "    '''\n",
    "    A function for the finding of corresponding pixels indexes \n",
    "    in H (sentinel 2) and L (MODIS) resolution image.\n",
    "    \n",
    "    args:\n",
    "        H_res_fname -- the high resolution image filename, need to have geoinformation enbeded in the file\n",
    "        destination_res -- for the calculation of pixel number in one MODIS tile\n",
    "    return:\n",
    "        index: a dictionary contain both the MODIS tile name and pixels indexes\n",
    "    \n",
    "    '''\n",
    "    \n",
    "    if destination_res % 250 == 0:\n",
    "        pass\n",
    "    else:\n",
    "        print 'destination resolution can only be 250, 500 and 1000 !!!'\n",
    "        raise IOError\n",
    "\n",
    "    g = gdal.Open(H_res_fname)\n",
    "    geo_t = g.GetGeoTransform()\n",
    "    x_size, y_size = g.RasterXSize, g.RasterYSize\n",
    "\n",
    "    wgs84 = osr.SpatialReference( ) # Define a SpatialReference object\n",
    "    wgs84.ImportFromEPSG( 4326 ) # And set it to WGS84 using the EPSG code\n",
    "    H_res_geo = osr.SpatialReference( )\n",
    "    raster_wkt = g.GetProjection()\n",
    "    H_res_geo.ImportFromWkt(raster_wkt)\n",
    "    tx = osr.CoordinateTransformation(H_res_geo, wgs84)\n",
    "    # so we need the four corners coordiates to check whether they are within the same modis tile\n",
    "    (ul_lon, ul_lat, ulz ) = tx.TransformPoint( geo_t[0], geo_t[3])\n",
    "\n",
    "    (lr_lon, lr_lat, lrz ) = tx.TransformPoint( geo_t[0] + geo_t[1]*x_size, \\\n",
    "                                          geo_t[3] + geo_t[5]*y_size )\n",
    "\n",
    "    (ll_lon, ll_lat, llz ) = tx.TransformPoint( geo_t[0] , \\\n",
    "                                          geo_t[3] + geo_t[5]*y_size )\n",
    "\n",
    "    (ur_lon, ur_lat, urz ) = tx.TransformPoint( geo_t[0] + geo_t[1]*x_size, \\\n",
    "                                          geo_t[3]  )\n",
    "\n",
    "    #print (ul_lon, ul_lat), (lr_lon, lr_lat), (ll_lon, ll_lat), (ur_lon, ur_lat)\n",
    "    # now its the s2 corners latitudes and longtitudes\n",
    "    s_dic ={'UR_LAT': ur_lat,\n",
    "           'UR_LON': ur_lon,\n",
    "           'LR_LAT': lr_lat,\n",
    "           'LR_LON': lr_lon,\n",
    "           'UL_LAT': ul_lat,\n",
    "           'UL_LON': ul_lon,\n",
    "           'LL_LAT': ll_lat,\n",
    "           'LL_LON': ll_lon}\n",
    "    s_cors = ulx, uly, lrx, lry, llx, lly, urx, ury = 0,0,x_size, y_size, x_size,0, 0, y_size \n",
    "    s_corners = dict(zip(['ulx', 'uly', 'lrx', 'lry', 'llx', 'lly', 'urx', 'ury'], s_cors))\n",
    "    \n",
    "    \n",
    "    \n",
    "    a0, b0 = None, None\n",
    "    corners = [(ul_lon, ul_lat), (lr_lon, lr_lat), (ll_lon, ll_lat), (ur_lon, ur_lat)]\n",
    "    tiles = []\n",
    "    for i,j  in enumerate(corners):\n",
    "        h,v = mtile_cal(j[1], j[0])\n",
    "        if (h==a0) &(v==b0):\n",
    "            pass\n",
    "        else:\n",
    "            tiles.append([i,h,v]) # 0--ul;1--lr;2--ll;3--ur\n",
    "            a0, b0 = h,v\n",
    "    \n",
    "    # The modis defults\n",
    "    pix_num = 4800/(destination_res/250)\n",
    "    xs = np.arange(0,pix_num).repeat(pix_num)\n",
    "    ys = np.tile(np.arange(0,pix_num), pix_num)\n",
    "    m_coords = [xs,ys]\n",
    "\n",
    "    # corners coordinate in image\n",
    "    m_dic ={'UR_LAT': 0,\n",
    "           'UR_LON': pix_num-1,\n",
    "           'LR_LAT': pix_num-1,\n",
    "           'LR_LON': pix_num-1,\n",
    "           'UL_LAT': 0,\n",
    "           'UL_LON': 0,\n",
    "           'LL_LAT': pix_num-1,\n",
    "           'LL_LON': 0}\n",
    "\n",
    "    inds = {}\n",
    "    for i in tiles:\n",
    "        m_cors = get_m_corners(i[1],i[2])\n",
    "        m_corners = dict(zip(['uly', 'ulx', 'lry', 'lrx', 'lly', 'llx', 'ury', 'urx'], m_cors))\n",
    "        latitudes, longtitudes = bilineanr(m_coords, m_dic, m_corners)\n",
    "\n",
    "        cors = bilineanr([latitudes, longtitudes], s_dic, s_corners)\n",
    "\n",
    "        hinds =np.array([cors[0][(cors[0]>=0)&(cors[0]<x_size)&(cors[1]>=0)&(cors[1]<y_size)],\n",
    "                     cors[1][(cors[0]>=0)&(cors[0]<x_size)&(cors[1]>=0)&(cors[1]<y_size)]]).astype(int)\n",
    "        minds = np.where(((cors[0]>=0)&(cors[0]<x_size)&(cors[1]>=0)&(cors[1]<y_size)).reshape((pix_num,pix_num)))\n",
    "        inds['h%02dv%02d'%(i[1],i[2])] = [hinds, np.array(minds)]\n",
    "\n",
    "    return inds\n"
   ]
  },
  {
   "cell_type": "code",
   "execution_count": 779,
   "metadata": {
    "collapsed": false
   },
   "outputs": [],
   "source": [
    "s2_fname = '/home/ucfafyi/DATA/S2_MODIS/s_data/33/K/WU/2016/10/2/0/B04.jp2'\n",
    "inds = Find_corresponding_pixels(s2_fname, destination_res=500)"
   ]
  },
  {
   "cell_type": "markdown",
   "metadata": {},
   "source": [
    "#### PSF modelling"
   ]
  },
  {
   "cell_type": "code",
   "execution_count": null,
   "metadata": {
    "collapsed": true
   },
   "outputs": [],
   "source": []
  }
 ],
 "metadata": {
  "kernelspec": {
   "display_name": "Python 2",
   "language": "python",
   "name": "python2"
  },
  "language_info": {
   "codemirror_mode": {
    "name": "ipython",
    "version": 2
   },
   "file_extension": ".py",
   "mimetype": "text/x-python",
   "name": "python",
   "nbconvert_exporter": "python",
   "pygments_lexer": "ipython2",
   "version": "2.7.12"
  }
 },
 "nbformat": 4,
 "nbformat_minor": 0
}
